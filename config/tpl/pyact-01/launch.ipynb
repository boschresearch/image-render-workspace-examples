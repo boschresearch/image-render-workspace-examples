{
 "cells": [
  {
   "cell_type": "markdown",
   "metadata": {},
   "source": [
    "This file is licensed under the [CC-BY-4.0](http://creativecommons.org/licenses/by/4.0/) license. See the *License* section at the bottom for more information."
   ]
  },
  {
   "cell_type": "markdown",
   "metadata": {},
   "source": [
    "# Project 'anim/test-01'\n",
    "\n",
    "This jupyter notebook uses the Catharsys API to work with the workspace configurations and actions."
   ]
  },
  {
   "cell_type": "markdown",
   "metadata": {},
   "source": [
    "### Create the Workspace Object"
   ]
  },
  {
   "cell_type": "code",
   "execution_count": null,
   "metadata": {},
   "outputs": [],
   "source": [
    "import catharsys.api as capi\n",
    "from catharsys.api.ipy import CIPyRender\n",
    "\n",
    "# The workspace is determined from the path of this notebook\n",
    "wsX = capi.CWorkspace()\n",
    "wsX.PrintInfo()\n"
   ]
  },
  {
   "cell_type": "markdown",
   "metadata": {},
   "source": [
    "### Create a Project object for 'anim/test-01'"
   ]
  },
  {
   "cell_type": "code",
   "execution_count": null,
   "metadata": {},
   "outputs": [],
   "source": [
    "sPrjId = \"anim/test-01\"\n",
    "prjAnim = wsX.Project(sPrjId)\n",
    "prjAnim.PrintActions()\n"
   ]
  },
  {
   "cell_type": "markdown",
   "metadata": {},
   "source": [
    "### Create the Action Object for 'render'"
   ]
  },
  {
   "cell_type": "code",
   "execution_count": null,
   "metadata": {},
   "outputs": [],
   "source": [
    "actRender = prjAnim.Action(\"render\")\n",
    "jobRender = actRender.GetJobConfig()\n",
    "\n",
    "jobRender.Save()\n"
   ]
  },
  {
   "cell_type": "markdown",
   "metadata": {},
   "source": [
    "### Launch the Action"
   ]
  },
  {
   "cell_type": "code",
   "execution_count": null,
   "metadata": {},
   "outputs": [],
   "source": [
    "jobRender = actRender.Launch(bPrintOutput=True)\n"
   ]
  },
  {
   "cell_type": "markdown",
   "metadata": {},
   "source": [
    "### Display the Result"
   ]
  },
  {
   "cell_type": "code",
   "execution_count": null,
   "metadata": {},
   "outputs": [],
   "source": [
    "xDisp = CIPyRender()\n",
    "xResult = jobRender.ResultData()\n",
    "xResult.Process(iFrameFirst=0, iFrameLast=5, lRenderImageTypes=[\"Image\"])\n",
    "xDisp.Data(xResult, bAsVideo=False)\n",
    "xDisp.Display()\n"
   ]
  },
  {
   "cell_type": "markdown",
   "metadata": {},
   "source": [
    "# Impressum\n",
    "\n",
    "Developed by Christian Perwass.\n",
    "\n",
    "## License\n",
    "\n",
    "This file is part of the **Image-Render 'test' example workspace**\n",
    "\n",
    "Copyright 2022, Robert Bosch GmbH and its subsidiaries\n",
    "\n",
    "This work is licensed under the *Creative Commons Attribution 4.0 International License*.<br>\n",
    "To view a copy of this license, visit [http://creativecommons.org/licenses/by/4.0/](http://creativecommons.org/licenses/by/4.0/)<br>\n",
    "or send a letter to Creative Commons, PO Box 1866, Mountain View, CA 94042, USA.\n"
   ]
  }
 ],
 "metadata": {
  "interpreter": {
   "hash": "d144e52b91e679811e4cceb0036205285e180e4be0ba7d3643a3ec09e4fe9f87"
  },
  "kernelspec": {
   "display_name": "Python 3.10.4 ('cath3')",
   "language": "python",
   "name": "python3"
  },
  "language_info": {
   "codemirror_mode": {
    "name": "ipython",
    "version": 3
   },
   "file_extension": ".py",
   "mimetype": "text/x-python",
   "name": "python",
   "nbconvert_exporter": "python",
   "pygments_lexer": "ipython3",
   "version": "3.10.4"
  },
  "orig_nbformat": 4
 },
 "nbformat": 4,
 "nbformat_minor": 2
}
