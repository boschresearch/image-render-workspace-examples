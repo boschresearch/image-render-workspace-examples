{
    "cells": [
        {
            "cell_type": "markdown",
            "metadata": {},
            "source": [
                "This file is licensed under the [CC-BY-4.0](http://creativecommons.org/licenses/by/4.0/) license. See the *License* section at the bottom for more information."
            ]
        },
        {
            "cell_type": "markdown",
            "metadata": {},
            "source": [
                "# Catharsys Interactive Python\n",
                "\n",
                "This file demonstrated launching of actions from a Jupyter notebook. You can use this as template to experiment with your own setups.\n"
            ]
        },
        {
            "cell_type": "code",
            "execution_count": null,
            "metadata": {},
            "outputs": [],
            "source": [
                "# Load the Catharsys API module\n",
                "import catharsys.api as capi\n",
                "\n",
                "# Create a workspace object for the workspace this file is located in\n",
                "wsX = capi.CWorkspace()\n",
                "# Print information about this workspace\n",
                "wsX.PrintInfo()"
            ]
        },
        {
            "cell_type": "markdown",
            "metadata": {},
            "source": [
                "## Create a configuration project object\n",
                "\n",
                "The configuration projects are the folders located under the `config` folder in your workspace. The available configuration projects are also listed by the `wsX.PrintInfo()` function above."
            ]
        },
        {
            "cell_type": "code",
            "execution_count": null,
            "metadata": {},
            "outputs": [],
            "source": [
                "# Create the test configuration object\n",
                "prjTest = wsX.Project(\"modify\")\n",
                "# Print the available actions\n",
                "prjTest.PrintActions()"
            ]
        },
        {
            "cell_type": "markdown",
            "metadata": {},
            "source": [
                "## Create an action\n",
                "\n",
                "Create an action object to launch an action or to get info about the job configuration of that action. The job configuration allows you to access the result data of that job in conjunction with a result data renderer."
            ]
        },
        {
            "cell_type": "code",
            "execution_count": null,
            "metadata": {},
            "outputs": [],
            "source": [
                "# Create an action object for the action 'render'\n",
                "actRender = prjTest.Action(\"render\")\n",
                "\n",
                "# Get the job configuration. If the action has already been executed,\n",
                "# this allows you to get the information on the result data location\n",
                "# without re-executing the action.\n",
                "jobRender = actRender.GetJobConfig()\n",
                "\n",
                "# This job configuration data can also be saved and loaded\n",
                "# jobRender.Save()"
            ]
        },
        {
            "cell_type": "markdown",
            "metadata": {},
            "source": [
                "## Launch the Render Actions\n",
                "\n",
                "Launch the render action from the render action object."
            ]
        },
        {
            "cell_type": "code",
            "execution_count": null,
            "metadata": {},
            "outputs": [],
            "source": [
                "# The launch function also return the job configuration\n",
                "jobRender = actRender.Launch(bPrintOutput=True)"
            ]
        },
        {
            "cell_type": "markdown",
            "metadata": {},
            "source": [
                "## Display the Action Result\n",
                "\n",
                "There are different \"renderers\" available to display the action result. Here we use an interactive Python renderer. However, there is also an HTML renderer available."
            ]
        },
        {
            "cell_type": "code",
            "execution_count": null,
            "metadata": {},
            "outputs": [],
            "source": [
                "from catharsys.api.ipy import CIPyRender\n",
                "\n",
                "# Create a renderer for ipy\n",
                "xDisp = CIPyRender()\n",
                "\n",
                "# Obtain information on the result data of a job.\n",
                "# Again, note that if the result data (e.g. rendered images) is already available\n",
                "# you can simply use the \"actRender.GetJobConfig()\" command to object the \n",
                "# job configuration, without re-executing the action.\n",
                "xResult = jobRender.ResultData()\n",
                "\n",
                "# Now we need to process the result data, to select which image types we want to see\n",
                "xResult.Process(iFrameFirst=0, lRenderImageTypes=[\"Image\"])\n",
                "\n",
                "# Now create ipy markdown of the result data\n",
                "xDisp.Data(xResult, bAsVideo=False)\n",
                "\n",
                "# And now display it here\n",
                "xDisp.Display()\n"
            ]
        },
        {
            "cell_type": "markdown",
            "metadata": {},
            "source": [
                "# Impressum\n",
                "\n",
                "Developed by Christian Perwass.\n",
                "\n",
                "## License\n",
                "\n",
                "This file is part of the **Image-Render 'simple' example workspace**\n",
                "\n",
                "Copyright 2022, Robert Bosch GmbH and its subsidiaries\n",
                "\n",
                "This work is licensed under the *Creative Commons Attribution 4.0 International License*.<br>\n",
                "To view a copy of this license, visit [http://creativecommons.org/licenses/by/4.0/](http://creativecommons.org/licenses/by/4.0/)<br>\n",
                "or send a letter to Creative Commons, PO Box 1866, Mountain View, CA 94042, USA.\n"
            ]
        }
    ],
    "metadata": {
        "kernelspec": {
            "display_name": "Python 3.10.4 ('cath3')",
            "language": "python",
            "name": "python3"
        },
        "language_info": {
            "codemirror_mode": {
                "name": "ipython",
                "version": 3
            },
            "file_extension": ".py",
            "mimetype": "text/x-python",
            "name": "python",
            "nbconvert_exporter": "python",
            "pygments_lexer": "ipython3",
            "version": "3.10.4"
        },
        "orig_nbformat": 4,
        "vscode": {
            "interpreter": {
                "hash": "d144e52b91e679811e4cceb0036205285e180e4be0ba7d3643a3ec09e4fe9f87"
            }
        }
    },
    "nbformat": 4,
    "nbformat_minor": 2
}
